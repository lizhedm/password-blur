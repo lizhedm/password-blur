{
 "cells": [
  {
   "cell_type": "code",
   "execution_count": 59,
   "metadata": {
    "scrolled": false
   },
   "outputs": [],
   "source": [
    "# function to calculate levenshtein distance\n",
    "def levenshtein(s, t):\n",
    "        ''' From Wikipedia article; Iterative with two matrix rows. '''\n",
    "        if s == t: return 0\n",
    "        elif len(s) == 0: return len(t)\n",
    "        elif len(t) == 0: return len(s)\n",
    "        v0 = [None] * (len(t) + 1)\n",
    "        v1 = [None] * (len(t) + 1)\n",
    "        for i in range(len(v0)):\n",
    "            v0[i] = i\n",
    "        for i in range(len(s)):\n",
    "            v1[0] = i + 1\n",
    "            for j in range(len(t)):\n",
    "                cost = 0 if s[i] == t[j] else 1\n",
    "                v1[j + 1] = min(v1[j] + 1, v0[j + 1] + 1, v0[j] + cost)\n",
    "            for j in range(len(v0)):\n",
    "                v0[j] = v1[j]\n",
    "                \n",
    "        return v1[len(t)]\n",
    "\n",
    "import csv\n",
    "import pandas as pd\n",
    "\n",
    "def levenshteinWithTaskNumber(task_number):\n",
    "    # get right answer list\n",
    "    right_answers_file = 'right_answers' + str(task_number) + '.csv'\n",
    "    df = pd.read_csv(right_answers_file, encoding = \"ISO-8859-1\")\n",
    "    right_answer_list = df['right_answer'].tolist()\n",
    "\n",
    "    user_id_list = [2,3,4,5,6,7,8,9,10,11,12]\n",
    "    # get users' answers from csv file\n",
    "    df = pd.read_csv('results-survey.csv', encoding = \"ISO-8859-1\")\n",
    "    df2 = df.copy()\n",
    "\n",
    "    user_answer_dic = {}\n",
    "    for user_id in user_id_list:\n",
    "        user_answer_dic[user_id] = []\n",
    "\n",
    "    for index, row in df.iterrows():\n",
    "    #     row[0] -> user_id, row[1] -> input_ifeld, row[3] -> input_text)\n",
    "        for user_id in user_id_list:\n",
    "            if row[0] == str(user_id) and str(task_number) in row[1]:\n",
    "                user_answer_dic[user_id].append(row[3])\n",
    "\n",
    "    user_answer_levenshtein_dic = {}\n",
    "    for user_id in user_id_list:\n",
    "        user_answer_levenshtein_dic[user_id] = []\n",
    "\n",
    "    for user_id in user_answer_dic.keys():\n",
    "        for answer,right_answer in zip(user_answer_dic[user_id],right_answer_list):\n",
    "            distance = levenshtein(answer,right_answer)\n",
    "#             print(user_id,answer,right_answer,distance)\n",
    "            user_answer_levenshtein_dic[user_id].append(distance)\n",
    "            \n",
    "    df3 = pd.DataFrame.from_dict(user_answer_levenshtein_dic, orient='index')\n",
    "#     change column names\n",
    "    df3.columns = right_answer_list\n",
    "    results_survey_after_calculated_file = 'results-survey-after-calculated' + str(task_number) + '.csv'\n",
    "    df3.to_csv(results_survey_after_calculated_file,sep=',', encoding='ISO-8859-1')\n",
    "    \n",
    "    \n",
    "levenshteinWithTaskNumber(1)\n",
    "levenshteinWithTaskNumber(2)\n"
   ]
  }
 ],
 "metadata": {
  "kernelspec": {
   "display_name": "Python 3",
   "language": "python",
   "name": "python3"
  },
  "language_info": {
   "codemirror_mode": {
    "name": "ipython",
    "version": 3
   },
   "file_extension": ".py",
   "mimetype": "text/x-python",
   "name": "python",
   "nbconvert_exporter": "python",
   "pygments_lexer": "ipython3",
   "version": "3.6.1"
  }
 },
 "nbformat": 4,
 "nbformat_minor": 2
}
